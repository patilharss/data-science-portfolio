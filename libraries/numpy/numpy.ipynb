{
 "cells": [
  {
   "cell_type": "markdown",
   "id": "ff4d1762",
   "metadata": {},
   "source": [
    "# installing numpy"
   ]
  },
  {
   "cell_type": "code",
   "execution_count": null,
   "id": "009024bd",
   "metadata": {},
   "outputs": [],
   "source": [
    "pip install numpy"
   ]
  },
  {
   "cell_type": "markdown",
   "id": "69de10a7",
   "metadata": {},
   "source": [
    "### Importing numpy"
   ]
  },
  {
   "cell_type": "code",
   "execution_count": 2,
   "id": "916a180f",
   "metadata": {},
   "outputs": [],
   "source": [
    "import numpy as np"
   ]
  },
  {
   "cell_type": "markdown",
   "id": "1ac7b46b",
   "metadata": {},
   "source": [
    "why use numpy over list \n",
    "1. list is very slow and numpy is very fast\n",
    "2. list require lots of memory and numpy consume less memory\n",
    "\n"
   ]
  },
  {
   "cell_type": "markdown",
   "id": "ad87a998",
   "metadata": {},
   "source": [
    "Applications:\n",
    "1. maths\n",
    "2. plotting\n",
    "3. numpu is core componant in pandas\n",
    "4. ML\n"
   ]
  },
  {
   "cell_type": "markdown",
   "id": "c19208e7",
   "metadata": {},
   "source": [
    "# Basics"
   ]
  },
  {
   "cell_type": "code",
   "execution_count": 18,
   "id": "4be3cb6f",
   "metadata": {},
   "outputs": [],
   "source": [
    "# creating a np array\n",
    "a=np.array([2,3,4],dtype='int16')"
   ]
  },
  {
   "cell_type": "code",
   "execution_count": 4,
   "id": "02f46609",
   "metadata": {},
   "outputs": [
    {
     "data": {
      "text/plain": [
       "numpy.ndarray"
      ]
     },
     "execution_count": 4,
     "metadata": {},
     "output_type": "execute_result"
    }
   ],
   "source": [
    "type(a)"
   ]
  },
  {
   "cell_type": "code",
   "execution_count": 6,
   "id": "c1ee1835",
   "metadata": {},
   "outputs": [],
   "source": [
    "#creating a multi dimensional array\n",
    "b=np.array([[1,2,3,4],[5,6,7,8]])"
   ]
  },
  {
   "cell_type": "code",
   "execution_count": 7,
   "id": "a6ef14a7",
   "metadata": {},
   "outputs": [
    {
     "data": {
      "text/plain": [
       "numpy.ndarray"
      ]
     },
     "execution_count": 7,
     "metadata": {},
     "output_type": "execute_result"
    }
   ],
   "source": [
    "type(b)"
   ]
  },
  {
   "cell_type": "code",
   "execution_count": 8,
   "id": "d4854341",
   "metadata": {},
   "outputs": [
    {
     "data": {
      "text/plain": [
       "1"
      ]
     },
     "execution_count": 8,
     "metadata": {},
     "output_type": "execute_result"
    }
   ],
   "source": [
    "# get dimension of np array\n",
    "a.ndim"
   ]
  },
  {
   "cell_type": "code",
   "execution_count": 9,
   "id": "b35a8b8c",
   "metadata": {},
   "outputs": [
    {
     "data": {
      "text/plain": [
       "2"
      ]
     },
     "execution_count": 9,
     "metadata": {},
     "output_type": "execute_result"
    }
   ],
   "source": [
    "b.ndim"
   ]
  },
  {
   "cell_type": "code",
   "execution_count": 11,
   "id": "13cd9577",
   "metadata": {},
   "outputs": [
    {
     "data": {
      "text/plain": [
       "(3,)"
      ]
     },
     "execution_count": 11,
     "metadata": {},
     "output_type": "execute_result"
    }
   ],
   "source": [
    "# also shape\n",
    "a.shape"
   ]
  },
  {
   "cell_type": "code",
   "execution_count": 14,
   "id": "ef646c37",
   "metadata": {},
   "outputs": [
    {
     "data": {
      "text/plain": [
       "(2, 4)"
      ]
     },
     "execution_count": 14,
     "metadata": {},
     "output_type": "execute_result"
    }
   ],
   "source": [
    "# returns (row,col)\n",
    "b.shape"
   ]
  },
  {
   "cell_type": "code",
   "execution_count": 15,
   "id": "a4da7dce",
   "metadata": {},
   "outputs": [
    {
     "data": {
      "text/plain": [
       "dtype('int32')"
      ]
     },
     "execution_count": 15,
     "metadata": {},
     "output_type": "execute_result"
    }
   ],
   "source": [
    "# getting data type\n",
    "a.dtype"
   ]
  },
  {
   "cell_type": "code",
   "execution_count": 20,
   "id": "bb157009",
   "metadata": {},
   "outputs": [
    {
     "data": {
      "text/plain": [
       "2"
      ]
     },
     "execution_count": 20,
     "metadata": {},
     "output_type": "execute_result"
    }
   ],
   "source": [
    "# get size\n",
    "a.itemsize"
   ]
  },
  {
   "cell_type": "markdown",
   "id": "8e81c666",
   "metadata": {},
   "source": [
    "# accessing / changing specific elements,row,columns"
   ]
  },
  {
   "cell_type": "code",
   "execution_count": 21,
   "id": "e48a60b8",
   "metadata": {},
   "outputs": [],
   "source": [
    "a=np.array([[1,2,3,4,5,6,7],[8,9,10,11,12,13,14]])"
   ]
  },
  {
   "cell_type": "code",
   "execution_count": 22,
   "id": "d9edce21",
   "metadata": {},
   "outputs": [
    {
     "data": {
      "text/plain": [
       "2"
      ]
     },
     "execution_count": 22,
     "metadata": {},
     "output_type": "execute_result"
    }
   ],
   "source": [
    "# getting a specific index array[row,col] \n",
    "a[0][1]"
   ]
  },
  {
   "cell_type": "code",
   "execution_count": 24,
   "id": "0b7f4b4c",
   "metadata": {},
   "outputs": [
    {
     "data": {
      "text/plain": [
       "array([1, 2, 3, 4, 5, 6, 7])"
      ]
     },
     "execution_count": 24,
     "metadata": {},
     "output_type": "execute_result"
    }
   ],
   "source": [
    "# get specific row and all col\n",
    "a[0,:]"
   ]
  },
  {
   "cell_type": "code",
   "execution_count": 25,
   "id": "07c7b56f",
   "metadata": {},
   "outputs": [
    {
     "data": {
      "text/plain": [
       "array([ 3, 10])"
      ]
     },
     "execution_count": 25,
     "metadata": {},
     "output_type": "execute_result"
    }
   ],
   "source": [
    "# get specific col\n",
    "a[:,2]"
   ]
  },
  {
   "cell_type": "code",
   "execution_count": null,
   "id": "e327795c",
   "metadata": {},
   "outputs": [],
   "source": [
    "# slicing [start:stop:stepsize]\n",
    "a[0,]"
   ]
  }
 ],
 "metadata": {
  "kernelspec": {
   "display_name": "Python 3",
   "language": "python",
   "name": "python3"
  },
  "language_info": {
   "codemirror_mode": {
    "name": "ipython",
    "version": 3
   },
   "file_extension": ".py",
   "mimetype": "text/x-python",
   "name": "python",
   "nbconvert_exporter": "python",
   "pygments_lexer": "ipython3",
   "version": "3.9.3"
  }
 },
 "nbformat": 4,
 "nbformat_minor": 5
}
